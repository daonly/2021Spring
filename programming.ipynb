{
  "nbformat": 4,
  "nbformat_minor": 0,
  "metadata": {
    "colab": {
      "name": "programming.ipynb",
      "provenance": [],
      "authorship_tag": "ABX9TyMCDOJjCOhJQPLzL3HOM7tm",
      "include_colab_link": true
    },
    "kernelspec": {
      "name": "python3",
      "display_name": "Python 3"
    }
  },
  "cells": [
    {
      "cell_type": "markdown",
      "metadata": {
        "id": "view-in-github",
        "colab_type": "text"
      },
      "source": [
        "<a href=\"https://colab.research.google.com/github/daonly/class2021Spring/blob/main/programming.ipynb\" target=\"_parent\"><img src=\"https://colab.research.google.com/assets/colab-badge.svg\" alt=\"Open In Colab\"/></a>"
      ]
    },
    {
      "cell_type": "code",
      "metadata": {
        "id": "yk3rBt5co_CD"
      },
      "source": [
        ""
      ],
      "execution_count": null,
      "outputs": []
    },
    {
      "cell_type": "markdown",
      "metadata": {
        "id": "3Lx0mKlkpAPI"
      },
      "source": [
        "## 프로그래밍 언어\r\n",
        "인간의 언어와 비슷한 점을 이용하면 결국 다 똑같음.\r\n",
        "인간의 언어는 단어와 문법으로 이루어짐.\r\n",
        "### 단어\r\n",
        "프로그래밍 언어에서 단어에 해당되는 것은 변수 variable.\r\n",
        "{a=2와 같이 변수를 지정할 수 있는데, 여기서 등호는 같다는 의미가 아니라 오른쪽의 내용을 왼쪽에 assign한다는 의미!}\r\n",
        "### 문법\r\n",
        "프로그래밍 언어에서 문법에 해당되는 것은 제어문.\r\n",
        "제어문에서 알아두어야 할 것은 반복 for와 조건 if. \r\n",
        "### 함수\r\n",
        "또 한 가지 프로그래밍 언어에서 알아두어야 할 것은 함수. 입출력 관계가 있을 때 그 사이에 어떤 변화가 가해진다면, 그게 바로 함수. {우리 몸도 일종의 함수!} function, inputs, outputs를 설정하면 됨."
      ]
    }
  ]
}