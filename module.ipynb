{
  "nbformat": 4,
  "nbformat_minor": 0,
  "metadata": {
    "colab": {
      "name": "module.ipynb",
      "provenance": [],
      "include_colab_link": true
    },
    "kernelspec": {
      "name": "python3",
      "display_name": "Python 3"
    },
    "language_info": {
      "name": "python"
    }
  },
  "cells": [
    {
      "cell_type": "markdown",
      "metadata": {
        "id": "view-in-github",
        "colab_type": "text"
      },
      "source": [
        "<a href=\"https://colab.research.google.com/github/daonly/class2021Spring/blob/main/module.ipynb\" target=\"_parent\"><img src=\"https://colab.research.google.com/assets/colab-badge.svg\" alt=\"Open In Colab\"/></a>"
      ]
    },
    {
      "cell_type": "code",
      "metadata": {
        "id": "sU1MEIdt2UEc"
      },
      "source": [
        "class cal: #함수와 변수가 함께 모듈화돼 있는 것.\n",
        "  def __init__(self): #_ _init _ _\n",
        "    self.result = 0 #이 self.~라고 쓰는 게 result.\n",
        "  def add(self, n): #self는 무조건 들어가는 거고, 실질적인 입력은 n 하나.\n",
        "    self.result += n #+=는 자기 자신에다가 n을 더해 업데이트하는 것.\n",
        "    return self.result"
      ],
      "execution_count": 1,
      "outputs": []
    },
    {
      "cell_type": "code",
      "metadata": {
        "colab": {
          "base_uri": "https://localhost:8080/"
        },
        "id": "b4Y4n8UPcRsX",
        "outputId": "df7d3a20-e53d-44f5-8f9a-2320af0f3c0f"
      },
      "source": [
        "A=cal() #class라는 틀을 가지고 A라는 걸 찍어낸다고 생각하면 됨. 이때 A는 객체 object.\n",
        "#이걸 실행하면 첫번째 줄 즉, 앞 코드의 line3까지가 실행됨.\n",
        "A.result "
      ],
      "execution_count": 2,
      "outputs": [
        {
          "output_type": "execute_result",
          "data": {
            "text/plain": [
              "0"
            ]
          },
          "metadata": {
            "tags": []
          },
          "execution_count": 2
        }
      ]
    },
    {
      "cell_type": "code",
      "metadata": {
        "colab": {
          "base_uri": "https://localhost:8080/"
        },
        "id": "iZ9J1b-Pcrgy",
        "outputId": "79e7e2f0-4e42-4661-f0dd-070895ab8cd4"
      },
      "source": [
        "A.add(4)"
      ],
      "execution_count": 3,
      "outputs": [
        {
          "output_type": "execute_result",
          "data": {
            "text/plain": [
              "4"
            ]
          },
          "metadata": {
            "tags": []
          },
          "execution_count": 3
        }
      ]
    },
    {
      "cell_type": "code",
      "metadata": {
        "colab": {
          "base_uri": "https://localhost:8080/"
        },
        "id": "KzOUAjO_dJop",
        "outputId": "a641696e-ee5a-4e68-b226-fe86f0497ad8"
      },
      "source": [
        "A.add(6)"
      ],
      "execution_count": 4,
      "outputs": [
        {
          "output_type": "execute_result",
          "data": {
            "text/plain": [
              "10"
            ]
          },
          "metadata": {
            "tags": []
          },
          "execution_count": 4
        }
      ]
    },
    {
      "cell_type": "code",
      "metadata": {
        "colab": {
          "base_uri": "https://localhost:8080/"
        },
        "id": "yK1JU7lAdbdu",
        "outputId": "8b38bcce-1eec-4f9b-8ccb-1a1fdca61e7d"
      },
      "source": [
        "B=cal()\n",
        "B.result"
      ],
      "execution_count": 6,
      "outputs": [
        {
          "output_type": "execute_result",
          "data": {
            "text/plain": [
              "0"
            ]
          },
          "metadata": {
            "tags": []
          },
          "execution_count": 6
        }
      ]
    },
    {
      "cell_type": "code",
      "metadata": {
        "colab": {
          "base_uri": "https://localhost:8080/"
        },
        "id": "EnzYAg9Sdlcu",
        "outputId": "1e86f4ed-c7d6-4151-ad7d-ca284bcc52d9"
      },
      "source": [
        "B.add(5)"
      ],
      "execution_count": 7,
      "outputs": [
        {
          "output_type": "execute_result",
          "data": {
            "text/plain": [
              "5"
            ]
          },
          "metadata": {
            "tags": []
          },
          "execution_count": 7
        }
      ]
    },
    {
      "cell_type": "code",
      "metadata": {
        "id": "DK4vTA6T4NN0"
      },
      "source": [
        "def func(a, b, x):\n",
        "  y = a*x + b\n",
        "  return y"
      ],
      "execution_count": null,
      "outputs": []
    }
  ]
}