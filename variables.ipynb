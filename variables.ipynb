{
  "nbformat": 4,
  "nbformat_minor": 0,
  "metadata": {
    "kernelspec": {
      "display_name": "Python 3",
      "language": "python",
      "name": "python3"
    },
    "language_info": {
      "codemirror_mode": {
        "name": "ipython",
        "version": 3
      },
      "file_extension": ".py",
      "mimetype": "text/x-python",
      "name": "python",
      "nbconvert_exporter": "python",
      "pygments_lexer": "ipython3",
      "version": "3.7.1"
    },
    "colab": {
      "name": "variables.ipynb의 사본",
      "provenance": [],
      "include_colab_link": true
    }
  },
  "cells": [
    {
      "cell_type": "markdown",
      "metadata": {
        "id": "view-in-github",
        "colab_type": "text"
      },
      "source": [
        "<a href=\"https://colab.research.google.com/github/daonly/class2021Spring/blob/main/variables.ipynb\" target=\"_parent\"><img src=\"https://colab.research.google.com/assets/colab-badge.svg\" alt=\"Open In Colab\"/></a>"
      ]
    },
    {
      "cell_type": "markdown",
      "metadata": {
        "id": "XtvkxR63w0W6"
      },
      "source": [
        ""
      ]
    },
    {
      "cell_type": "code",
      "metadata": {
        "id": "goAyoU7vRheI",
        "outputId": "c32cc600-3c42-4dc2-b77d-84782e8fe65a"
      },
      "source": [
        "a = 13; print(type(a))"
      ],
      "execution_count": null,
      "outputs": [
        {
          "output_type": "stream",
          "text": [
            "<class 'int'>\n"
          ],
          "name": "stdout"
        }
      ]
    },
    {
      "cell_type": "code",
      "metadata": {
        "id": "NEmRvHE9RAwh",
        "colab": {
          "base_uri": "https://localhost:8080/"
        },
        "outputId": "e09897c7-476c-4ae2-97fd-2f92f29810df"
      },
      "source": [
        "a=13\r\n",
        "print(a)\r\n",
        "b=22\r\n",
        "print(b)\r\n",
        "c=31\r\n",
        "print(c)"
      ],
      "execution_count": 1,
      "outputs": [
        {
          "output_type": "stream",
          "text": [
            "13\n",
            "22\n",
            "31\n"
          ],
          "name": "stdout"
        }
      ]
    },
    {
      "cell_type": "code",
      "metadata": {
        "id": "9gldDs_oRvp7",
        "colab": {
          "base_uri": "https://localhost:8080/"
        },
        "outputId": "22677f74-49c8-4b47-a193-7f61929002ff"
      },
      "source": [
        "a=13\r\n",
        "a\r\n",
        "b=22\r\n",
        "b\r\n",
        "c=31\r\n",
        "c"
      ],
      "execution_count": 2,
      "outputs": [
        {
          "output_type": "execute_result",
          "data": {
            "text/plain": [
              "31"
            ]
          },
          "metadata": {
            "tags": []
          },
          "execution_count": 2
        }
      ]
    },
    {
      "cell_type": "markdown",
      "metadata": {
        "id": "rut1fE2JCiE3"
      },
      "source": [
        "변수 명만 입력하면 제일 마지막 output만 내놓음! 그 이전에 변수 여러 개를 써놔도 마지막 변수만 출력.\r\n",
        "\r\n",
        "###--> 다 출력하고 싶으면 print 함수 이용!"
      ]
    },
    {
      "cell_type": "code",
      "metadata": {
        "colab": {
          "base_uri": "https://localhost:8080/"
        },
        "id": "scgA75mzvWuM",
        "outputId": "ef525ce5-4468-4745-f2f7-33c6f25dcea3"
      },
      "source": [
        "a=1\r\n",
        "b='love'\r\n",
        "c=[1,2,7] #list\r\n",
        "d=[1,'2','love']\r\n",
        "e=(1,'2','love')\r\n",
        "f={'a':165, 'b':172, 'c':185}\r\n",
        "type(f)"
      ],
      "execution_count": 8,
      "outputs": [
        {
          "output_type": "execute_result",
          "data": {
            "text/plain": [
              "dict"
            ]
          },
          "metadata": {
            "tags": []
          },
          "execution_count": 8
        }
      ]
    },
    {
      "cell_type": "code",
      "metadata": {
        "id": "txxnoqJuRheJ",
        "outputId": "713e5491-c822-43d7-ec7b-a00348e02708"
      },
      "source": [
        "a = 1; a = float(a); print(type(a))"
      ],
      "execution_count": null,
      "outputs": [
        {
          "output_type": "stream",
          "text": [
            "<class 'float'>\n"
          ],
          "name": "stdout"
        }
      ]
    },
    {
      "cell_type": "code",
      "metadata": {
        "id": "By9UCBctRheK",
        "outputId": "0b95cbef-a020-4008-9a1e-06f57a7950da",
        "colab": {
          "base_uri": "https://localhost:8080/"
        }
      },
      "source": [
        "a = 1.2; a = int(a); print(type(a)); print(a) #실수 a를 강제로 반올림해서 정수화"
      ],
      "execution_count": 3,
      "outputs": [
        {
          "output_type": "stream",
          "text": [
            "<class 'int'>\n",
            "1\n"
          ],
          "name": "stdout"
        }
      ]
    },
    {
      "cell_type": "code",
      "metadata": {
        "id": "2NAGa-OgKKx8",
        "outputId": "c8a61d58-9111-4ec5-add7-21b622294ed0",
        "colab": {
          "base_uri": "https://localhost:8080/"
        }
      },
      "source": [
        "a=\"123\"  #single quote를 쓰든 double quote를 쓰든 str이 되지만, single이 더 일반적.\r\n",
        "print(type(a))  #str의 quote는 print를 쓰면 생략된 채 출력됨."
      ],
      "execution_count": 6,
      "outputs": [
        {
          "output_type": "stream",
          "text": [
            "<class 'str'>\n"
          ],
          "name": "stdout"
        }
      ]
    },
    {
      "cell_type": "code",
      "metadata": {
        "id": "SyP0PB86RheL",
        "outputId": "1c4ee144-a160-4970-f40a-c4ffb19363b7",
        "colab": {
          "base_uri": "https://localhost:8080/"
        }
      },
      "source": [
        "a = '123'; print(type(a)); print(a[1]) #index는 첫 번째를 0으로 시작함. 0번째로 시작."
      ],
      "execution_count": 7,
      "outputs": [
        {
          "output_type": "stream",
          "text": [
            "<class 'str'>\n",
            "2\n"
          ],
          "name": "stdout"
        }
      ]
    },
    {
      "cell_type": "code",
      "metadata": {
        "id": "byDy9oFERheL",
        "outputId": "bfc3fed4-2c45-4830-a723-0981b1b02914"
      },
      "source": [
        "a = '123';\r\n",
        "a = list(a); \r\n",
        "print(type(a)); \r\n",
        "print(a); \r\n",
        "print(a[2])"
      ],
      "execution_count": null,
      "outputs": [
        {
          "output_type": "stream",
          "text": [
            "<class 'list'>\n",
            "['1', '2', '3']\n",
            "3\n"
          ],
          "name": "stdout"
        }
      ]
    },
    {
      "cell_type": "code",
      "metadata": {
        "id": "DfS-gknCRheL",
        "outputId": "0cf2a3dd-678f-47ab-b4d6-c62e43e428e5"
      },
      "source": [
        "a = [1,'2', [3, '4']] #list는 뭐든 input으로 받을 수 있음. list조차도.\r\n",
        "print(type(a)); print(a[0]); print(a[1]); print(a[2])"
      ],
      "execution_count": null,
      "outputs": [
        {
          "output_type": "stream",
          "text": [
            "<class 'list'>\n",
            "1\n",
            "2\n",
            "[3, '4']\n"
          ],
          "name": "stdout"
        }
      ]
    },
    {
      "cell_type": "code",
      "metadata": {
        "colab": {
          "base_uri": "https://localhost:8080/"
        },
        "id": "Tn9In3xGVswl",
        "outputId": "6c9240e5-02e3-4019-948e-16fe3bb74960"
      },
      "source": [
        "a=[1,2,3]\r\n",
        "a[0]=-1\r\n",
        "a"
      ],
      "execution_count": null,
      "outputs": [
        {
          "output_type": "execute_result",
          "data": {
            "text/plain": [
              "[-1, 2, 3]"
            ]
          },
          "metadata": {
            "tags": []
          },
          "execution_count": 4
        }
      ]
    },
    {
      "cell_type": "code",
      "metadata": {
        "colab": {
          "base_uri": "https://localhost:8080/",
          "height": 204
        },
        "id": "cetQilLzV2ZP",
        "outputId": "d165cba3-07c3-4906-fd5e-dbd70e49568b"
      },
      "source": [
        "a=(1,2,3) #tuple은 list랑 똑같은데 수정이 안 됨. 더 안전한 data.\r\n",
        "a[0]=-1\r\n",
        "a"
      ],
      "execution_count": null,
      "outputs": [
        {
          "output_type": "error",
          "ename": "TypeError",
          "evalue": "ignored",
          "traceback": [
            "\u001b[0;31m---------------------------------------------------------------------------\u001b[0m",
            "\u001b[0;31mTypeError\u001b[0m                                 Traceback (most recent call last)",
            "\u001b[0;32m<ipython-input-5-f728f29e3a47>\u001b[0m in \u001b[0;36m<module>\u001b[0;34m()\u001b[0m\n\u001b[1;32m      1\u001b[0m \u001b[0ma\u001b[0m\u001b[0;34m=\u001b[0m\u001b[0;34m(\u001b[0m\u001b[0;36m1\u001b[0m\u001b[0;34m,\u001b[0m\u001b[0;36m2\u001b[0m\u001b[0;34m,\u001b[0m\u001b[0;36m3\u001b[0m\u001b[0;34m)\u001b[0m\u001b[0;34m\u001b[0m\u001b[0;34m\u001b[0m\u001b[0m\n\u001b[0;32m----> 2\u001b[0;31m \u001b[0ma\u001b[0m\u001b[0;34m[\u001b[0m\u001b[0;36m0\u001b[0m\u001b[0;34m]\u001b[0m\u001b[0;34m=\u001b[0m\u001b[0;34m-\u001b[0m\u001b[0;36m1\u001b[0m\u001b[0;34m\u001b[0m\u001b[0;34m\u001b[0m\u001b[0m\n\u001b[0m\u001b[1;32m      3\u001b[0m \u001b[0ma\u001b[0m\u001b[0;34m\u001b[0m\u001b[0;34m\u001b[0m\u001b[0m\n",
            "\u001b[0;31mTypeError\u001b[0m: 'tuple' object does not support item assignment"
          ]
        }
      ]
    },
    {
      "cell_type": "code",
      "metadata": {
        "id": "wuUZdEnyRheM",
        "outputId": "3f1479d8-f8d2-43b0-b33e-f54ac9e17f6d"
      },
      "source": [
        "a = (1,'2', [3, '4']); print(type(a)); print(a[0]); print(a[1]); print(a[2])"
      ],
      "execution_count": null,
      "outputs": [
        {
          "output_type": "stream",
          "text": [
            "<class 'tuple'>\n",
            "1\n",
            "2\n",
            "[3, '4']\n"
          ],
          "name": "stdout"
        }
      ]
    },
    {
      "cell_type": "code",
      "metadata": {
        "id": "2sivfloGRheM",
        "outputId": "5c768bb7-e02b-4c87-a76e-3e992cdb244e"
      },
      "source": [
        "a =\t{\"a\": \"apple\", \"b\": \"orange\", \"c\": 2014} #dic은 중괄호 사용.\n",
        "print(type(a))\n",
        "print(a[\"a\"]) #얘는 순서 개념이 없으므로 index 대신 key 값 넣음."
      ],
      "execution_count": null,
      "outputs": [
        {
          "output_type": "stream",
          "text": [
            "<class 'dict'>\n",
            "apple\n"
          ],
          "name": "stdout"
        }
      ]
    },
    {
      "cell_type": "code",
      "metadata": {
        "id": "r8DZio_SWnSz",
        "colab": {
          "base_uri": "https://localhost:8080/"
        },
        "outputId": "2a32383c-95db-47ae-87a6-55a8314f5921"
      },
      "source": [
        "a =\t{\"a\": 'apple', \"b\": \"orange\", \"c\": 2014}\n",
        "print(type(a))\n",
        "print(a[\"a\"])"
      ],
      "execution_count": 9,
      "outputs": [
        {
          "output_type": "stream",
          "text": [
            "<class 'dict'>\n",
            "apple\n"
          ],
          "name": "stdout"
        }
      ]
    },
    {
      "cell_type": "code",
      "metadata": {
        "id": "yUVqgJkHLhFm",
        "outputId": "67715562-b2e6-4def-a76f-25b4c0acf6da",
        "colab": {
          "base_uri": "https://localhost:8080/"
        }
      },
      "source": [
        "a[\"a\"]='banana' #key assignment도 바꿀 수 있음.\r\n",
        "a"
      ],
      "execution_count": 12,
      "outputs": [
        {
          "output_type": "execute_result",
          "data": {
            "text/plain": [
              "{'a': 'banana', 'b': 'orange', 'c': 2014}"
            ]
          },
          "metadata": {
            "tags": []
          },
          "execution_count": 12
        }
      ]
    },
    {
      "cell_type": "code",
      "metadata": {
        "id": "A7teRXuCRheN",
        "outputId": "79a99306-d858-4682-a61e-a21c74bd903d"
      },
      "source": [
        "a=[(1,2,3), (3,8,0)]\n",
        "print(type(a))\n",
        "a"
      ],
      "execution_count": null,
      "outputs": [
        {
          "output_type": "stream",
          "text": [
            "<class 'list'>\n"
          ],
          "name": "stdout"
        },
        {
          "output_type": "execute_result",
          "data": {
            "text/plain": [
              "[(1, 2, 3), (3, 8, 0)]"
            ]
          },
          "metadata": {
            "tags": []
          },
          "execution_count": 27
        }
      ]
    }
  ]
}