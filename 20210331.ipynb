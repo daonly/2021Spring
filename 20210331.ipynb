{
  "nbformat": 4,
  "nbformat_minor": 0,
  "metadata": {
    "colab": {
      "name": "20210331.ipynb",
      "provenance": [],
      "authorship_tag": "ABX9TyM6zfkHkhkK9CqebSESDjJ+",
      "include_colab_link": true
    },
    "kernelspec": {
      "name": "python3",
      "display_name": "Python 3"
    },
    "language_info": {
      "name": "python"
    }
  },
  "cells": [
    {
      "cell_type": "markdown",
      "metadata": {
        "id": "view-in-github",
        "colab_type": "text"
      },
      "source": [
        "<a href=\"https://colab.research.google.com/github/daonly/class2021Spring/blob/main/20210331.ipynb\" target=\"_parent\"><img src=\"https://colab.research.google.com/assets/colab-badge.svg\" alt=\"Open In Colab\"/></a>"
      ]
    },
    {
      "cell_type": "markdown",
      "metadata": {
        "id": "6ao5IgBJ4dxh"
      },
      "source": [
        "###[a] sound\n",
        "pitch: 262.5Hz<br>intensity: 61.53dB<br>1st formant: 1053Hz\n",
        "<br>2nd formant: 1340Hz\n",
        "<br>duration: 0.64sec\n",
        "\n",
        "###[e] sound\n",
        "pitch: 261.4Hz\n",
        "<br>intensity: 50.27dB\n",
        "<br>1st formant: 798.2Hz\n",
        "<br>2nd formant: 2425Hz\n",
        "<br>duration: 0.78sec\n"
      ]
    }
  ]
}