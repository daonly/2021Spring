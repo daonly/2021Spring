{
  "nbformat": 4,
  "nbformat_minor": 0,
  "metadata": {
    "colab": {
      "name": "import.ipynb",
      "provenance": [],
      "authorship_tag": "ABX9TyOOdlOW/YGxlu2s5FIp0DLK",
      "include_colab_link": true
    },
    "kernelspec": {
      "name": "python3",
      "display_name": "Python 3"
    },
    "language_info": {
      "name": "python"
    }
  },
  "cells": [
    {
      "cell_type": "markdown",
      "metadata": {
        "id": "view-in-github",
        "colab_type": "text"
      },
      "source": [
        "<a href=\"https://colab.research.google.com/github/daonly/class2021Spring/blob/main/import.ipynb\" target=\"_parent\"><img src=\"https://colab.research.google.com/assets/colab-badge.svg\" alt=\"Open In Colab\"/></a>"
      ]
    },
    {
      "cell_type": "code",
      "metadata": {
        "colab": {
          "base_uri": "https://localhost:8080/"
        },
        "id": "CE2W-naZgTpM",
        "outputId": "2317e0e9-043b-4d1a-e37b-eb60a184d9ce"
      },
      "source": [
        "import numpy as np #이렇게 import나 from import해서 써야 하는 애들은 외부 패키지.\n",
        "#numpy는 우리가 수를 쉽게 다룰 수 있게 해줌.\n",
        "n=np.random.randn(100) #총 100개의 숫자를 만드는 것. n이란 정규분포라는 의미.\n",
        "n"
      ],
      "execution_count": 5,
      "outputs": [
        {
          "output_type": "execute_result",
          "data": {
            "text/plain": [
              "array([ 0.51841491,  0.82799317, -0.10712149,  0.97703683, -0.27923449,\n",
              "       -0.67795102, -1.11851737,  1.22489692, -0.0058147 , -1.22046152,\n",
              "        0.11945624, -0.54619226, -1.01630721,  0.86392028, -0.0506126 ,\n",
              "        0.1379829 , -0.32696241, -0.98933355,  0.6899417 , -1.1384437 ,\n",
              "        0.60596732, -0.11570221, -0.42183376, -0.71258407, -0.81778726,\n",
              "       -1.62872917, -0.05559873,  0.37817603, -0.61190819,  0.26078149,\n",
              "       -1.00860316, -1.82922692, -1.96625435,  1.45936198,  0.77073666,\n",
              "       -1.49370138, -0.5474573 ,  0.51270496, -0.29106897,  0.28347043,\n",
              "       -0.29872973,  0.99441511,  0.47152137, -0.87323324, -0.72577733,\n",
              "       -0.03368451, -0.09275367,  0.48714677, -0.02533216, -0.04252274,\n",
              "       -0.79521209,  1.62697107,  0.05170298, -0.35525967,  0.05641097,\n",
              "        1.95828339, -0.2684443 ,  2.19792562, -0.47836832,  0.25919514,\n",
              "        0.81917404,  1.73656048, -0.79704707,  1.74124896,  1.01702955,\n",
              "       -1.08362272, -0.7907768 , -0.28754483, -0.47944982, -1.43039423,\n",
              "        0.30097142, -1.45422093, -0.71388494, -1.21273268,  0.30107331,\n",
              "       -1.57400295, -0.8688577 , -0.02960211, -0.70569399,  0.72903937,\n",
              "       -0.40254648, -0.43808589,  1.27880439, -0.638194  , -1.25075969,\n",
              "        0.58538087, -1.44161444,  0.57110472, -0.09067348,  0.16259556,\n",
              "        0.45821138, -0.6267522 , -0.88345959,  1.20181816, -0.95899216,\n",
              "       -1.07761851, -0.3909015 ,  1.02618794,  1.14490081, -0.43861722])"
            ]
          },
          "metadata": {
            "tags": []
          },
          "execution_count": 5
        }
      ]
    },
    {
      "cell_type": "code",
      "metadata": {
        "colab": {
          "base_uri": "https://localhost:8080/",
          "height": 353
        },
        "id": "JLU8tfzlgdfL",
        "outputId": "44832ccc-d1cb-438a-9c45-44becc7b6c6d"
      },
      "source": [
        "import matplotlib #이게 큰 패키지\n",
        "import matplotlib.pyplot #얘네가 그 안에 들어있는 모듈\n",
        "from matplotlib import pyplot\n",
        "from matplotlib.pyplot import hist #그 안에 들어있는 hist라는 func를 써라아.\n",
        "matplotlib.pyplot.hist(n)"
      ],
      "execution_count": 7,
      "outputs": [
        {
          "output_type": "execute_result",
          "data": {
            "text/plain": [
              "(array([ 4.,  8., 15., 18., 18., 14.,  9.,  8.,  4.,  2.]),\n",
              " array([-1.96625435, -1.54983635, -1.13341836, -0.71700036, -0.30058236,\n",
              "         0.11583563,  0.53225363,  0.94867163,  1.36508962,  1.78150762,\n",
              "         2.19792562]),\n",
              " <a list of 10 Patch objects>)"
            ]
          },
          "metadata": {
            "tags": []
          },
          "execution_count": 7
        },
        {
          "output_type": "display_data",
          "data": {
            "image/png": "[encoded data removed]",
            "text/plain": [
              "<Figure size 432x288 with 1 Axes>"
            ]
          },
          "metadata": {
            "tags": [],
            "needs_background": "light"
          }
        }
      ]
    },
    {
      "cell_type": "code",
      "metadata": {
        "id": "FyPdefP4jNnC"
      },
      "source": [
        "package or library\n",
        "\n",
        "numpy\n",
        "pandas\n",
        "matplotlib\n",
        "tensorflow\n",
        "pytorch\n",
        "nltk"
      ],
      "execution_count": null,
      "outputs": []
    }
  ]
}